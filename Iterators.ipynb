{
 "cells": [
  {
   "cell_type": "markdown",
   "id": "467e1fb7-0538-4ae3-9913-f23034a0cb87",
   "metadata": {},
   "source": [
    "- Iteration through iter() and next() by assigning an itorator"
   ]
  },
  {
   "cell_type": "code",
   "execution_count": 2,
   "id": "2c5d5c1f-c51f-41be-981b-91bc4bf716af",
   "metadata": {},
   "outputs": [],
   "source": [
    "x=[1,2,3]"
   ]
  },
  {
   "cell_type": "code",
   "execution_count": 13,
   "id": "92bd20dd-f4b0-47cc-ae2d-f89f90cf35b9",
   "metadata": {},
   "outputs": [],
   "source": [
    "x_iter = iter(x)"
   ]
  },
  {
   "cell_type": "code",
   "execution_count": 14,
   "id": "10e6705b-396e-478a-b2a1-54045c02e622",
   "metadata": {},
   "outputs": [
    {
     "data": {
      "text/plain": [
       "<list_iterator at 0x1977e0aaaa0>"
      ]
     },
     "execution_count": 14,
     "metadata": {},
     "output_type": "execute_result"
    }
   ],
   "source": [
    "x_iter"
   ]
  },
  {
   "cell_type": "code",
   "execution_count": 15,
   "id": "4c412065-d10a-468f-96c5-86e3aed319cd",
   "metadata": {},
   "outputs": [
    {
     "data": {
      "text/plain": [
       "1"
      ]
     },
     "execution_count": 15,
     "metadata": {},
     "output_type": "execute_result"
    }
   ],
   "source": [
    "next(x_iter) #Run krte raho next element print krte rhega fir stopIteration error"
   ]
  },
  {
   "cell_type": "code",
   "execution_count": 28,
   "id": "833da561-23d0-4cde-ba03-b24e3cfcf9d4",
   "metadata": {},
   "outputs": [],
   "source": [
    "#It is both iterable and iterator\n",
    "class yrange:\n",
    "    def __init__ (self,n):\n",
    "        self.i = 0\n",
    "        self.n=n\n",
    "    def __iter__(self):\n",
    "        return self\n",
    "    def __next__(self):\n",
    "        if self.i<self.n:\n",
    "            i=self.i\n",
    "            self.i +=1\n",
    "            return i\n",
    "        else:\n",
    "            raise StopIteration()\n",
    "        "
   ]
  },
  {
   "cell_type": "code",
   "execution_count": 22,
   "id": "994c39d0-5656-4e06-aeec-fedea95c5af8",
   "metadata": {},
   "outputs": [
    {
     "name": "stdout",
     "output_type": "stream",
     "text": [
      "0\n",
      "1\n",
      "2\n",
      "3\n",
      "4\n"
     ]
    }
   ],
   "source": [
    "for x in yrange(5):\n",
    "    print(x)"
   ]
  },
  {
   "cell_type": "code",
   "execution_count": 26,
   "id": "72a3e33b-18ed-46ee-8f3e-83b919dc763b",
   "metadata": {},
   "outputs": [],
   "source": [
    "y= yrange(5) #object of yrange class"
   ]
  },
  {
   "cell_type": "code",
   "execution_count": 24,
   "id": "4cf68fbe-1e7c-4df8-ae96-b0d2a41f696f",
   "metadata": {},
   "outputs": [],
   "source": [
    "y_iter = iter(y)"
   ]
  },
  {
   "cell_type": "code",
   "execution_count": 25,
   "id": "28db723e-e81a-4928-9366-4d86cfdbfdd4",
   "metadata": {},
   "outputs": [
    {
     "data": {
      "text/plain": [
       "<__main__.yrange at 0x1977dd93890>"
      ]
     },
     "execution_count": 25,
     "metadata": {},
     "output_type": "execute_result"
    }
   ],
   "source": [
    "y_iter"
   ]
  },
  {
   "cell_type": "code",
   "execution_count": 42,
   "id": "a47cf8ea-926f-46bf-8e98-96493e460adf",
   "metadata": {},
   "outputs": [],
   "source": [
    "class zrange:\n",
    "    def __init__(self,n):\n",
    "        self.n=n\n",
    "        \n",
    "    def __iter__(self):\n",
    "        return zrange_iter(self.n) \n",
    "\n",
    "class zrange_iter:\n",
    "    def __init__(self,n):\n",
    "        self.i = 0\n",
    "        self.n = n\n",
    "\n",
    "        def __iter__(self):\n",
    "            return self\n",
    "\n",
    "        def __next__(self):\n",
    "            if self.i < self.n:\n",
    "                i = self.i\n",
    "                self.i +=1\n",
    "                return i\n",
    "            else:\n",
    "                raise StopIteration()"
   ]
  },
  {
   "cell_type": "code",
   "execution_count": 49,
   "id": "c67f094d-1093-4c08-b5ee-37f4a4f67463",
   "metadata": {},
   "outputs": [
    {
     "ename": "TypeError",
     "evalue": "'zrange' object is not callable",
     "output_type": "error",
     "traceback": [
      "\u001b[1;31m---------------------------------------------------------------------------\u001b[0m",
      "\u001b[1;31mTypeError\u001b[0m                                 Traceback (most recent call last)",
      "Cell \u001b[1;32mIn[49], line 2\u001b[0m\n\u001b[0;32m      1\u001b[0m values \u001b[38;5;241m=\u001b[39m zrange(\u001b[38;5;241m5\u001b[39m)\n\u001b[1;32m----> 2\u001b[0m \u001b[38;5;28;01mfor\u001b[39;00m x \u001b[38;5;129;01min\u001b[39;00m \u001b[43mvalues\u001b[49m\u001b[43m(\u001b[49m\u001b[38;5;241;43m5\u001b[39;49m\u001b[43m)\u001b[49m:\n\u001b[0;32m      3\u001b[0m     \u001b[38;5;28mprint\u001b[39m(x)\n",
      "\u001b[1;31mTypeError\u001b[0m: 'zrange' object is not callable"
     ]
    }
   ],
   "source": [
    "for x in zrange(5):\n",
    "    print(x)\n",
    "    "
   ]
  },
  {
   "cell_type": "code",
   "execution_count": 44,
   "id": "5f549e3a-af70-4953-85f9-6bf547b69949",
   "metadata": {},
   "outputs": [],
   "source": [
    "z= zrange(10)"
   ]
  },
  {
   "cell_type": "code",
   "execution_count": 45,
   "id": "e34c30c9-d729-462b-a374-2f37c81f65b4",
   "metadata": {},
   "outputs": [
    {
     "ename": "TypeError",
     "evalue": "iter() returned non-iterator of type 'zrange_iter'",
     "output_type": "error",
     "traceback": [
      "\u001b[1;31m---------------------------------------------------------------------------\u001b[0m",
      "\u001b[1;31mTypeError\u001b[0m                                 Traceback (most recent call last)",
      "Cell \u001b[1;32mIn[45], line 1\u001b[0m\n\u001b[1;32m----> 1\u001b[0m \u001b[38;5;28;43mlist\u001b[39;49m\u001b[43m(\u001b[49m\u001b[43mz\u001b[49m\u001b[43m)\u001b[49m\n",
      "\u001b[1;31mTypeError\u001b[0m: iter() returned non-iterator of type 'zrange_iter'"
     ]
    }
   ],
   "source": [
    "list(z)"
   ]
  },
  {
   "cell_type": "markdown",
   "id": "7506770f-72f1-45f5-9ec9-2c4e7636732c",
   "metadata": {},
   "source": [
    "- Here is again how we create our own iterator"
   ]
  },
  {
   "cell_type": "code",
   "execution_count": 55,
   "id": "dad54011-cb3d-4967-aad1-0a8a391b5360",
   "metadata": {},
   "outputs": [
    {
     "ename": "TypeError",
     "evalue": "iter() returned non-iterator of type 'topten'",
     "output_type": "error",
     "traceback": [
      "\u001b[1;31m---------------------------------------------------------------------------\u001b[0m",
      "\u001b[1;31mTypeError\u001b[0m                                 Traceback (most recent call last)",
      "Cell \u001b[1;32mIn[55], line 17\u001b[0m\n\u001b[0;32m     13\u001b[0m                 \u001b[38;5;28;01mraise\u001b[39;00m \u001b[38;5;167;01mStopIteration\u001b[39;00m()\n\u001b[0;32m     15\u001b[0m values \u001b[38;5;241m=\u001b[39m topten()\n\u001b[1;32m---> 17\u001b[0m \u001b[38;5;28;43;01mfor\u001b[39;49;00m\u001b[43m \u001b[49m\u001b[43mi\u001b[49m\u001b[43m \u001b[49m\u001b[38;5;129;43;01min\u001b[39;49;00m\u001b[43m \u001b[49m\u001b[43mvalues\u001b[49m\u001b[43m:\u001b[49m\n\u001b[0;32m     18\u001b[0m \u001b[43m    \u001b[49m\u001b[38;5;28;43mprint\u001b[39;49m\u001b[43m(\u001b[49m\u001b[43mi\u001b[49m\u001b[43m)\u001b[49m\n",
      "\u001b[1;31mTypeError\u001b[0m: iter() returned non-iterator of type 'topten'"
     ]
    }
   ],
   "source": [
    "class topten:\n",
    "    def __init__(self):\n",
    "        self.num=1\n",
    "    def __iter__(self):\n",
    "        return self\n",
    "    def __next(self):\n",
    "        if self.num<=10:\n",
    "            val= self.num\n",
    "            self.num+=1\n",
    "    \n",
    "            return val\n",
    "        else:\n",
    "                raise StopIteration()\n",
    "        \n",
    "values = topten()\n",
    "\n",
    "for i in values:\n",
    "    print(i)\n",
    "\n"
   ]
  },
  {
   "cell_type": "code",
   "execution_count": 57,
   "id": "564c5477-dd38-4908-be81-90fb42fbeefb",
   "metadata": {},
   "outputs": [
    {
     "name": "stdout",
     "output_type": "stream",
     "text": [
      "4\n",
      "16\n",
      "36\n",
      "64\n"
     ]
    }
   ],
   "source": [
    "a =[2,4,6,8] #INTEGER\n",
    "\n",
    "for x in a:\n",
    "    print (x**2)"
   ]
  },
  {
   "cell_type": "code",
   "execution_count": 59,
   "id": "e1a15b65-d849-4fa1-8b8e-711e31b93549",
   "metadata": {},
   "outputs": [
    {
     "name": "stdout",
     "output_type": "stream",
     "text": [
      "R\n",
      "I\n",
      "S\n",
      "H\n",
      "A\n",
      "V\n"
     ]
    }
   ],
   "source": [
    "name = \"RISHAV\" #CHARACTERS\n",
    "for a in name:\n",
    "    print(a)"
   ]
  },
  {
   "cell_type": "code",
   "execution_count": 73,
   "id": "259808ce-69ac-4430-b651-edd700ab5e0f",
   "metadata": {},
   "outputs": [
    {
     "name": "stdout",
     "output_type": "stream",
     "text": [
      "name\n",
      "Sir_name\n",
      "Marks\n"
     ]
    }
   ],
   "source": [
    "d = {\"name\" :\"Rishav\",\"Sir_name\":\"Rathor\",\"Marks\":95} #DICT.\n",
    "for a in d: #Ye srif key dega value ni\n",
    "    print(a)"
   ]
  },
  {
   "cell_type": "code",
   "execution_count": 68,
   "id": "5211bb23-f80a-4ec5-b2aa-310b2cbca4a4",
   "metadata": {},
   "outputs": [
    {
     "name": "stdout",
     "output_type": "stream",
     "text": [
      "Hello sir i welcome you here,\n",
      "\n",
      "My name is rishav rathor \n",
      "\n",
      "Please be seated\n"
     ]
    }
   ],
   "source": [
    "file =open(\"something_else.txt\",\"r\")\n",
    "for line in file:\n",
    "    print(line)"
   ]
  },
  {
   "cell_type": "code",
   "execution_count": 69,
   "id": "a407f91f-8805-454e-8a8e-5e4fe34613a6",
   "metadata": {},
   "outputs": [
    {
     "data": {
      "text/plain": [
       "'a.b.c'"
      ]
     },
     "execution_count": 69,
     "metadata": {},
     "output_type": "execute_result"
    }
   ],
   "source": [
    "#Join functions :- join a list or dict of strings using another string\n",
    "\".\".join([\"a\",\"b\",\"c\"]) #a,b,c ko join krdiya . ke sath"
   ]
  },
  {
   "cell_type": "code",
   "execution_count": 75,
   "id": "fe37340d-8319-463b-838a-c3bd23425e3c",
   "metadata": {},
   "outputs": [
    {
     "data": {
      "text/plain": [
       "'name.Sir_name.Marks'"
      ]
     },
     "execution_count": 75,
     "metadata": {},
     "output_type": "execute_result"
    }
   ],
   "source": [
    "\".\".join(d) #Dictionary k keys lega"
   ]
  },
  {
   "cell_type": "markdown",
   "id": "09f215ea-32fb-45aa-96aa-c9be5080bd6b",
   "metadata": {},
   "source": [
    "### Generators"
   ]
  },
  {
   "cell_type": "code",
   "execution_count": null,
   "id": "bb6dbbcf-58bb-4d15-bf28-9847d64bd847",
   "metadata": {},
   "outputs": [],
   "source": []
  }
 ],
 "metadata": {
  "kernelspec": {
   "display_name": "Python 3 (ipykernel)",
   "language": "python",
   "name": "python3"
  },
  "language_info": {
   "codemirror_mode": {
    "name": "ipython",
    "version": 3
   },
   "file_extension": ".py",
   "mimetype": "text/x-python",
   "name": "python",
   "nbconvert_exporter": "python",
   "pygments_lexer": "ipython3",
   "version": "3.13.1"
  }
 },
 "nbformat": 4,
 "nbformat_minor": 5
}
