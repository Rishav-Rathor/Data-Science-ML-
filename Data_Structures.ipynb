{
 "cells": [
  {
   "cell_type": "markdown",
   "id": "8b3ee260-fe2c-44b4-8554-c9e41868f146",
   "metadata": {},
   "source": [
    "### Strings "
   ]
  },
  {
   "cell_type": "code",
   "execution_count": 12,
   "id": "8e3cf966-72e6-49f2-aaff-76714d1d227c",
   "metadata": {},
   "outputs": [
    {
     "data": {
      "text/plain": [
       "'K'"
      ]
     },
     "execution_count": 12,
     "metadata": {},
     "output_type": "execute_result"
    }
   ],
   "source": [
    "a='a'\n",
    "b=\"Rishav\"\n",
    "ord(\"A\")# it give ASCII value at given character\n",
    "chr(75)# it gives character at given value "
   ]
  },
  {
   "cell_type": "code",
   "execution_count": 4,
   "id": "f9d13938-63b3-4fd2-977b-4d52cbb139fc",
   "metadata": {},
   "outputs": [
    {
     "name": "stdout",
     "output_type": "stream",
     "text": [
      "a\n",
      "Rishav\n"
     ]
    }
   ],
   "source": [
    "print(a)\n",
    "print(b)"
   ]
  },
  {
   "cell_type": "markdown",
   "id": "aa8ce996-0e23-48dc-8ada-c17219692bed",
   "metadata": {},
   "source": [
    "### Operations with strings\n",
    "\n",
    "1. Strip (Removes whitespaces)\n",
    "2. split(Split where spaces comes)\n",
    "3. Replace(Replace substrings to new)\n",
    "4. Count"
   ]
  },
  {
   "cell_type": "code",
   "execution_count": 18,
   "id": "37e36d51-7368-4af5-b5ef-4b1a3d1ec7a6",
   "metadata": {},
   "outputs": [
    {
     "data": {
      "text/plain": [
       "'My name is Rishav'"
      ]
     },
     "execution_count": 18,
     "metadata": {},
     "output_type": "execute_result"
    }
   ],
   "source": [
    "st=\"  My name is Rishav  \"\n",
    "st.rstrip()\n",
    "st.strip()"
   ]
  },
  {
   "cell_type": "code",
   "execution_count": 19,
   "id": "da07ae2d-7b51-4f99-b0f7-a095671c91ff",
   "metadata": {},
   "outputs": [
    {
     "data": {
      "text/plain": [
       "['', '', 'My', 'name', 'is', 'Rishav', '', '']"
      ]
     },
     "execution_count": 19,
     "metadata": {},
     "output_type": "execute_result"
    }
   ],
   "source": [
    "st.split(\" \")"
   ]
  },
  {
   "cell_type": "code",
   "execution_count": 21,
   "id": "83929246-6ec8-4162-968c-3cdf9d9f49b6",
   "metadata": {},
   "outputs": [
    {
     "data": {
      "text/plain": [
       "'  My name is Mohit  '"
      ]
     },
     "execution_count": 21,
     "metadata": {},
     "output_type": "execute_result"
    }
   ],
   "source": [
    "st.replace(\"Rishav\",\"Mohit\")"
   ]
  },
  {
   "cell_type": "code",
   "execution_count": 23,
   "id": "9c8885d8-f15c-4357-94e3-58931b5f39a1",
   "metadata": {},
   "outputs": [
    {
     "data": {
      "text/plain": [
       "4"
      ]
     },
     "execution_count": 23,
     "metadata": {},
     "output_type": "execute_result"
    }
   ],
   "source": [
    "st=\"aaaazzzz\"\n",
    "st.count(\"a\")"
   ]
  },
  {
   "cell_type": "markdown",
   "id": "337c8e1c-b30b-4ef1-ae7e-9cbfd26e134c",
   "metadata": {},
   "source": [
    "### LIST"
   ]
  },
  {
   "cell_type": "code",
   "execution_count": 24,
   "id": "8aaaf5a3-116f-4d4f-af9f-0c1b90f90b36",
   "metadata": {},
   "outputs": [],
   "source": [
    "a=[\"Rishav\", 1,1.3,print]"
   ]
  },
  {
   "cell_type": "code",
   "execution_count": 26,
   "id": "ce357481-d3e7-46a2-9e9a-2d23a0f903b4",
   "metadata": {},
   "outputs": [
    {
     "data": {
      "text/plain": [
       "<function print(*args, sep=' ', end='\\n', file=None, flush=False)>"
      ]
     },
     "execution_count": 26,
     "metadata": {},
     "output_type": "execute_result"
    }
   ],
   "source": [
    "a[3]"
   ]
  },
  {
   "cell_type": "code",
   "execution_count": 28,
   "id": "41a3d6b8-2901-4d3d-86d8-9ede655c46d0",
   "metadata": {},
   "outputs": [
    {
     "data": {
      "text/plain": [
       "'Rishav'"
      ]
     },
     "execution_count": 28,
     "metadata": {},
     "output_type": "execute_result"
    }
   ],
   "source": [
    "a[0]"
   ]
  },
  {
   "cell_type": "code",
   "execution_count": 29,
   "id": "c8043fdc-80cc-4982-b4e0-2445f2dbee89",
   "metadata": {},
   "outputs": [
    {
     "name": "stdout",
     "output_type": "stream",
     "text": [
      "Hello World\n"
     ]
    }
   ],
   "source": [
    "a[3](\"Hello World\")"
   ]
  },
  {
   "cell_type": "code",
   "execution_count": 34,
   "id": "74bce2f5-92d1-46bb-b9dc-0638ff148567",
   "metadata": {},
   "outputs": [
    {
     "data": {
      "text/plain": [
       "[2, 4, 111, 6, 8, 3, 5, 7]"
      ]
     },
     "execution_count": 34,
     "metadata": {},
     "output_type": "execute_result"
    }
   ],
   "source": [
    "a=[2,4,6,8,3,5,7]\n",
    "a.insert(2,111)"
   ]
  },
  {
   "cell_type": "code",
   "execution_count": 35,
   "id": "db527c16-c97b-4a2c-b672-4913868744db",
   "metadata": {},
   "outputs": [
    {
     "data": {
      "text/plain": [
       "[2, 4, 111, 6, 8, 3, 5, 7, 'Rathor']"
      ]
     },
     "execution_count": 35,
     "metadata": {},
     "output_type": "execute_result"
    }
   ],
   "source": [
    "a.append(\"Rathor\")\n",
    "a"
   ]
  },
  {
   "cell_type": "code",
   "execution_count": 36,
   "id": "a3ce8499-c41f-4d01-96af-985ff81cbb22",
   "metadata": {},
   "outputs": [
    {
     "data": {
      "text/plain": [
       "[2, 4, 6, 8, 3, 5, 7, 'Rathor']"
      ]
     },
     "execution_count": 36,
     "metadata": {},
     "output_type": "execute_result"
    }
   ],
   "source": [
    "a.pop(2)\n",
    "a"
   ]
  },
  {
   "cell_type": "code",
   "execution_count": 37,
   "id": "6a70614e-bfea-434f-aad5-1f03ebc40f62",
   "metadata": {},
   "outputs": [],
   "source": [
    "del a[0]"
   ]
  },
  {
   "cell_type": "code",
   "execution_count": 38,
   "id": "d188a6c7-aaf1-4f8b-a2f8-3517cba0d9a3",
   "metadata": {},
   "outputs": [
    {
     "data": {
      "text/plain": [
       "[4, 6, 8, 3, 5, 7, 'Rathor']"
      ]
     },
     "execution_count": 38,
     "metadata": {},
     "output_type": "execute_result"
    }
   ],
   "source": [
    "a"
   ]
  },
  {
   "cell_type": "code",
   "execution_count": 41,
   "id": "2fcde3ce-54b9-4609-9806-b673cfcd60f8",
   "metadata": {},
   "outputs": [
    {
     "data": {
      "text/plain": [
       "[2, 2, 111, 2, 4, 6, 8, 3, 5, 7, 'Rathor']"
      ]
     },
     "execution_count": 41,
     "metadata": {},
     "output_type": "execute_result"
    }
   ],
   "source": [
    "a.insert(0,2)\n",
    "a.insert(2,111)\n",
    "a"
   ]
  },
  {
   "cell_type": "code",
   "execution_count": 44,
   "id": "46b0855c-d4d7-4abc-95b4-e813f5f760b4",
   "metadata": {},
   "outputs": [
    {
     "data": {
      "text/plain": [
       "[2, 2, 2, 3, 4, 5, 6, 7, 8, 111]"
      ]
     },
     "execution_count": 44,
     "metadata": {},
     "output_type": "execute_result"
    }
   ],
   "source": [
    "a.remove('Rathor')\n",
    "a"
   ]
  },
  {
   "cell_type": "code",
   "execution_count": 45,
   "id": "b218c3ed-6f9a-49ff-95b3-20fde258c337",
   "metadata": {},
   "outputs": [
    {
     "data": {
      "text/plain": [
       "[2, 2, 2, 3, 4, 5, 6, 7, 8, 111]"
      ]
     },
     "execution_count": 45,
     "metadata": {},
     "output_type": "execute_result"
    }
   ],
   "source": [
    "sorted(a)"
   ]
  },
  {
   "cell_type": "code",
   "execution_count": 47,
   "id": "2c8dab04-c824-43c7-bb1e-2bd511acf1ca",
   "metadata": {},
   "outputs": [
    {
     "name": "stdout",
     "output_type": "stream",
     "text": [
      "111\n",
      "8\n",
      "7\n",
      "6\n",
      "5\n",
      "4\n",
      "3\n",
      "2\n",
      "2\n",
      "2\n"
     ]
    }
   ],
   "source": [
    "for i in reversed(a):\n",
    "    print (i)"
   ]
  },
  {
   "cell_type": "markdown",
   "id": "a170147f-7689-4d13-8727-9beaa198a464",
   "metadata": {},
   "source": [
    "### Tuples"
   ]
  },
  {
   "cell_type": "code",
   "execution_count": null,
   "id": "de1d747d-10a2-49eb-9298-42880bab118a",
   "metadata": {},
   "outputs": [],
   "source": [
    "a=(2,4,6,8,10,3,5,7,112)# imuttable h\n"
   ]
  }
 ],
 "metadata": {
  "kernelspec": {
   "display_name": "Python 3 (ipykernel)",
   "language": "python",
   "name": "python3"
  },
  "language_info": {
   "codemirror_mode": {
    "name": "ipython",
    "version": 3
   },
   "file_extension": ".py",
   "mimetype": "text/x-python",
   "name": "python",
   "nbconvert_exporter": "python",
   "pygments_lexer": "ipython3",
   "version": "3.13.1"
  }
 },
 "nbformat": 4,
 "nbformat_minor": 5
}
