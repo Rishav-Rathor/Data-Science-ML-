{
 "cells": [
  {
   "cell_type": "markdown",
   "id": "1995a600-f851-4df8-817b-9b50d2f9f4d6",
   "metadata": {},
   "source": [
    "### Multi Processing"
   ]
  },
  {
   "cell_type": "code",
   "execution_count": 8,
   "id": "b79208ca-f3ae-44a2-8763-4f4e60de659d",
   "metadata": {},
   "outputs": [],
   "source": [
    "from multiprocessing import Process"
   ]
  },
  {
   "cell_type": "code",
   "execution_count": 9,
   "id": "d7472860-4dc0-4a48-bcea-4c33ddacb9ec",
   "metadata": {},
   "outputs": [],
   "source": [
    "def showSquare(num=2):\n",
    "    print(num**2)\n",
    "    for i in range(1000):pass"
   ]
  },
  {
   "cell_type": "code",
   "execution_count": 10,
   "id": "9e7a30ea-a320-45c7-a72d-bcb5deb041bf",
   "metadata": {},
   "outputs": [],
   "source": [
    "procs = []"
   ]
  },
  {
   "cell_type": "code",
   "execution_count": 11,
   "id": "898048f8-0456-48a8-925f-d1c2bdc483bc",
   "metadata": {},
   "outputs": [],
   "source": [
    "for i in range(5):\n",
    "    procs.append(Process(target = showSquare))"
   ]
  },
  {
   "cell_type": "code",
   "execution_count": 12,
   "id": "0e9c542e-874f-461e-b7a1-26dd36d5fddd",
   "metadata": {},
   "outputs": [],
   "source": [
    "for proc in procs:\n",
    "    proc.start()"
   ]
  },
  {
   "cell_type": "code",
   "execution_count": 13,
   "id": "14d1e187-7939-47c2-88ac-648edca43f35",
   "metadata": {},
   "outputs": [],
   "source": [
    "for proc in procs:\n",
    "    proc.join()"
   ]
  },
  {
   "cell_type": "markdown",
   "id": "46e1d757-f7bb-4df6-b1a7-1244df496cc6",
   "metadata": {},
   "source": [
    "### Multi Threading"
   ]
  },
  {
   "cell_type": "code",
   "execution_count": 19,
   "id": "93fbef80-e1f1-481e-921d-533d2674e08a",
   "metadata": {},
   "outputs": [],
   "source": [
    "from threading import Thread"
   ]
  },
  {
   "cell_type": "code",
   "execution_count": 20,
   "id": "ea160d35-9623-4e24-8660-a753778952d4",
   "metadata": {},
   "outputs": [],
   "source": [
    "def square(n):\n",
    "    print(\"square is\",n**2)\n",
    "def cube(n):\n",
    "    print(\"cube is\",n**3)\n",
    "    "
   ]
  },
  {
   "cell_type": "code",
   "execution_count": null,
   "id": "51563774-85f0-46b7-bb14-a9d2fc62137e",
   "metadata": {},
   "outputs": [],
   "source": []
  },
  {
   "cell_type": "code",
   "execution_count": 21,
   "id": "8190e08f-2654-4c68-8856-c701b522a090",
   "metadata": {},
   "outputs": [
    {
     "name": "stdout",
     "output_type": "stream",
     "text": [
      "square is 16\n",
      "cube is 27\n"
     ]
    }
   ],
   "source": [
    "t1 = Thread(target = square(4),)# or t1 = Thread(target = square,args = (4,))\n",
    "t2 = Thread(target = cube(3),) # t1 = Thread(target = cube,args = (4,))\n"
   ]
  },
  {
   "cell_type": "code",
   "execution_count": 22,
   "id": "47fac301-819c-4573-9a70-1d4c86f42fd2",
   "metadata": {},
   "outputs": [
    {
     "name": "stdout",
     "output_type": "stream",
     "text": [
      "Hello\n"
     ]
    }
   ],
   "source": [
    "t1.start()\n",
    "t2.start()\n",
    "print(\"Hello\")"
   ]
  },
  {
   "cell_type": "code",
   "execution_count": 24,
   "id": "7b2e473b-fdc3-4091-bb11-00e46f70e249",
   "metadata": {},
   "outputs": [],
   "source": [
    "t1.join()\n",
    "t2.join()"
   ]
  },
  {
   "cell_type": "code",
   "execution_count": 26,
   "id": "767a279a-333e-4d43-a6c6-165e2586b1fb",
   "metadata": {},
   "outputs": [],
   "source": [
    "## Esa hi chlta rha the the pc will land into a deadlock situation because ek hi time pe ram ki space lena chahega\n",
    "# Uske liye we will use queue"
   ]
  },
  {
   "cell_type": "code",
   "execution_count": 28,
   "id": "e54413fc-fd98-4e32-b167-ce8f9eab7969",
   "metadata": {},
   "outputs": [],
   "source": [
    "# JAb tk tread one will publish into the queue the thread 2 will wait till then for the queue to be empty\n",
    "\n",
    "from queue import Queue "
   ]
  },
  {
   "cell_type": "code",
   "execution_count": 29,
   "id": "314a00ae-8b08-4c87-81f7-fc92e084cc95",
   "metadata": {},
   "outputs": [],
   "source": [
    "def producer(q):\n",
    "    for i in range(5):\n",
    "        q.put(i)\n",
    "        print(\"Published\",i)\n",
    "def consumer(q):\n",
    "    while True:\n",
    "        data = q.get()\n",
    "        print(\"Consumed\",data)"
   ]
  },
  {
   "cell_type": "code",
   "execution_count": 30,
   "id": "6e9507da-82cb-406d-9c62-6268e6e34bfb",
   "metadata": {},
   "outputs": [],
   "source": [
    "q = Queue()"
   ]
  },
  {
   "cell_type": "code",
   "execution_count": null,
   "id": "6df6435d-c15a-4922-a00e-c0b52c9e14c2",
   "metadata": {},
   "outputs": [],
   "source": [
    "producer_thread = Thread(target = producer(q),)\n",
    "consumer_thread = Thread(target = consumer(q),)"
   ]
  },
  {
   "cell_type": "code",
   "execution_count": null,
   "id": "0fb62980-b7a7-43a6-a3c6-47b1e2db39ed",
   "metadata": {},
   "outputs": [],
   "source": [
    "consumer_thread.start()"
   ]
  },
  {
   "cell_type": "code",
   "execution_count": null,
   "id": "669d24b0-af00-40fc-a958-a1d5a2e00398",
   "metadata": {},
   "outputs": [],
   "source": [
    "producer_thread.start()"
   ]
  },
  {
   "cell_type": "code",
   "execution_count": null,
   "id": "bc45d3df-551d-42d2-a2b6-d324ffb3abc8",
   "metadata": {},
   "outputs": [],
   "source": [
    "consumer_thread.join()"
   ]
  },
  {
   "cell_type": "code",
   "execution_count": null,
   "id": "00dd304a-4e21-4118-80aa-a80eafd2a5e9",
   "metadata": {},
   "outputs": [],
   "source": [
    "producer_thread.join()"
   ]
  },
  {
   "cell_type": "markdown",
   "id": "0bef42d0-e735-4d83-adc3-8f91dbd9eb26",
   "metadata": {},
   "source": [
    "### Couroutiness\n",
    "- yield"
   ]
  },
  {
   "cell_type": "code",
   "execution_count": 1,
   "id": "86ae7efd-e247-42e3-87c1-c6cbec266820",
   "metadata": {},
   "outputs": [],
   "source": [
    "def print_fancy_name(prefix):\n",
    "    try:\n",
    "        while True:\n",
    "            name=(yield)\n",
    "            print(prefix + \":\" + name)\n",
    "    except GeneratorExit:\n",
    "        print(\"Done\")"
   ]
  },
  {
   "cell_type": "code",
   "execution_count": 5,
   "id": "d4fd76d9-2d7b-4858-9fc8-d220a602329b",
   "metadata": {},
   "outputs": [
    {
     "name": "stdout",
     "output_type": "stream",
     "text": [
      "Done\n"
     ]
    }
   ],
   "source": [
    "co = print_fancy_name(\"Cool\")\n"
   ]
  },
  {
   "cell_type": "markdown",
   "id": "dd3f9541-e1f4-436d-9dfc-52a50b8b3e60",
   "metadata": {},
   "source": [
    "Initialization"
   ]
  },
  {
   "cell_type": "code",
   "execution_count": 6,
   "id": "65e52616-e997-4b66-a7b1-374a4d37d26b",
   "metadata": {},
   "outputs": [],
   "source": [
    "next(co)"
   ]
  },
  {
   "cell_type": "markdown",
   "id": "e364e352-81f7-4062-ab69-87f509226b12",
   "metadata": {},
   "source": [
    "Sending data and control to coroutine"
   ]
  },
  {
   "cell_type": "code",
   "execution_count": 7,
   "id": "20065a0c-5d4d-49f1-afce-77efd53a6a58",
   "metadata": {},
   "outputs": [
    {
     "name": "stdout",
     "output_type": "stream",
     "text": [
      "Cool:Rishav\n"
     ]
    }
   ],
   "source": [
    "co.send(\"Rishav\")"
   ]
  },
  {
   "cell_type": "code",
   "execution_count": 9,
   "id": "df124435-6db1-4801-9338-17ae174733f5",
   "metadata": {},
   "outputs": [
    {
     "name": "stdout",
     "output_type": "stream",
     "text": [
      "Cool:Jatin\n"
     ]
    }
   ],
   "source": [
    "co.send(\"Jatin\")"
   ]
  },
  {
   "cell_type": "code",
   "execution_count": 10,
   "id": "0ea0d4ff-c2f0-4885-82a1-0d18318cce35",
   "metadata": {},
   "outputs": [
    {
     "name": "stdout",
     "output_type": "stream",
     "text": [
      "Done\n"
     ]
    }
   ],
   "source": [
    "co.close()"
   ]
  },
  {
   "cell_type": "markdown",
   "id": "b3c9d349-c908-49e8-814f-62d60b85b343",
   "metadata": {},
   "source": [
    "## AsyncIO\n",
    "- New library which make sure to do task asynchronously"
   ]
  },
  {
   "cell_type": "code",
   "execution_count": 12,
   "id": "01fd8c3f-3317-43d5-b4d3-ffbe9c3c464d",
   "metadata": {},
   "outputs": [],
   "source": [
    "import asyncio"
   ]
  },
  {
   "cell_type": "code",
   "execution_count": null,
   "id": "c2dbd302-d2b0-4589-87e9-47a5b614e12a",
   "metadata": {},
   "outputs": [],
   "source": []
  },
  {
   "cell_type": "code",
   "execution_count": null,
   "id": "0b02b4ba-19aa-4370-8d9e-ddb9b3491400",
   "metadata": {},
   "outputs": [],
   "source": []
  }
 ],
 "metadata": {
  "kernelspec": {
   "display_name": "Python 3 (ipykernel)",
   "language": "python",
   "name": "python3"
  },
  "language_info": {
   "codemirror_mode": {
    "name": "ipython",
    "version": 3
   },
   "file_extension": ".py",
   "mimetype": "text/x-python",
   "name": "python",
   "nbconvert_exporter": "python",
   "pygments_lexer": "ipython3",
   "version": "3.13.1"
  }
 },
 "nbformat": 4,
 "nbformat_minor": 5
}
