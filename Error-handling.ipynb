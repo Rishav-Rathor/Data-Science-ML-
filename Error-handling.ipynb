{
 "cells": [
  {
   "cell_type": "markdown",
   "id": "b7867647-76b9-4d67-8c06-63113f23d601",
   "metadata": {},
   "source": [
    "## Errors and Exceptions"
   ]
  },
  {
   "cell_type": "code",
   "execution_count": 3,
   "id": "48a47e50-283f-40ed-b8db-9850dc5b3fae",
   "metadata": {},
   "outputs": [
    {
     "ename": "SyntaxError",
     "evalue": "invalid syntax (1911419204.py, line 1)",
     "output_type": "error",
     "traceback": [
      "\u001b[1;36m  Cell \u001b[1;32mIn[3], line 1\u001b[1;36m\u001b[0m\n\u001b[1;33m    fore i in range(10):\u001b[0m\n\u001b[1;37m         ^\u001b[0m\n\u001b[1;31mSyntaxError\u001b[0m\u001b[1;31m:\u001b[0m invalid syntax\n"
     ]
    }
   ],
   "source": [
    "fore i in range(10):\n",
    "  print(i)   # These is an error (syntactical error)"
   ]
  },
  {
   "cell_type": "code",
   "execution_count": 6,
   "id": "485ff72d-4afc-4d1a-97e4-c27b350d70ba",
   "metadata": {},
   "outputs": [
    {
     "name": "stdout",
     "output_type": "stream",
     "text": [
      "Hello\n"
     ]
    },
    {
     "ename": "ZeroDivisionError",
     "evalue": "division by zero",
     "output_type": "error",
     "traceback": [
      "\u001b[1;31m---------------------------------------------------------------------------\u001b[0m",
      "\u001b[1;31mZeroDivisionError\u001b[0m                         Traceback (most recent call last)",
      "Cell \u001b[1;32mIn[6], line 2\u001b[0m\n\u001b[0;32m      1\u001b[0m \u001b[38;5;28mprint\u001b[39m(\u001b[38;5;124m\"\u001b[39m\u001b[38;5;124mHello\u001b[39m\u001b[38;5;124m\"\u001b[39m)\n\u001b[1;32m----> 2\u001b[0m \u001b[38;5;28mprint\u001b[39m(\u001b[38;5;241;43m10\u001b[39;49m\u001b[38;5;241;43m/\u001b[39;49m\u001b[38;5;241;43m0\u001b[39;49m) \u001b[38;5;66;03m#this line does not have any error or syntax issue \u001b[39;00m\n",
      "\u001b[1;31mZeroDivisionError\u001b[0m: division by zero"
     ]
    }
   ],
   "source": [
    "print(\"Hello\")\n",
    "print(10/0) #this line does not have any error or syntax issue \n",
    "print(\"World\") #this line will not be executed because exception k baad new line me nhi jaate"
   ]
  },
  {
   "cell_type": "markdown",
   "id": "6a9226bc-b800-4064-8786-b35f23b3572d",
   "metadata": {},
   "source": [
    "We use :-\n",
    "1. Try\n",
    "2. except"
   ]
  },
  {
   "cell_type": "code",
   "execution_count": 15,
   "id": "d12cc374-ba58-41f0-ab33-8fea4c38d937",
   "metadata": {},
   "outputs": [],
   "source": [
    "def div(a,b):\n",
    "    try: #please python try to execute below this\n",
    "      print(a/b)\n",
    "    except:\n",
    "        print(\"Error!\") "
   ]
  },
  {
   "cell_type": "code",
   "execution_count": 16,
   "id": "618e1a15-9012-427d-99a0-ceb1a785919a",
   "metadata": {},
   "outputs": [
    {
     "name": "stdout",
     "output_type": "stream",
     "text": [
      "Error!\n"
     ]
    }
   ],
   "source": [
    "div(10,0)"
   ]
  },
  {
   "cell_type": "code",
   "execution_count": 22,
   "id": "fc8579e7-2164-46dd-a96a-1197450aa777",
   "metadata": {},
   "outputs": [
    {
     "name": "stdout",
     "output_type": "stream",
     "text": [
      "You were trying to divide by zero\n"
     ]
    }
   ],
   "source": [
    "try:\n",
    "    #print(10/0)\n",
    "    a= int(\"Rishav\") #Isme error kyu aya:- Kyuki ye srif tab hi except block me aayega jb zero division wala issue hoga wrna nhi\n",
    "except ZeroDivisionError:\n",
    "    print(\"You were trying to divide by zero\")\n",
    "except:\n",
    "    print(\"Some error occurred\") #Ye default block h koi v error hoga to isi me aayega \n",
    "\n",
    "    #these all(Value error or ZeroDivisionError are derived classes of exception)\n",
    "    #or Exception hi main base class"
   ]
  },
  {
   "cell_type": "code",
   "execution_count": 23,
   "id": "93729afc-4d9f-4dcf-9ec6-d8005aa641f0",
   "metadata": {},
   "outputs": [
    {
     "name": "stdout",
     "output_type": "stream",
     "text": [
      "division by zero\n"
     ]
    }
   ],
   "source": [
    "try:\n",
    "    print(10/0)\n",
    "except Exception as e: #exception base class h in sbka\n",
    "    print(e) #object h exception ka print krenge to jis type ka error h wo aayega\n",
    "    "
   ]
  },
  {
   "cell_type": "markdown",
   "id": "2a989c4a-7191-4e5f-b8a0-899536f8af1d",
   "metadata": {},
   "source": [
    "Kabhi barde barde kaam k liye custom exception bnana prdta h raise krna prdta hai by:-\n",
    "\n",
    " - Raise"
   ]
  },
  {
   "cell_type": "code",
   "execution_count": 24,
   "id": "549a04ee-a8e1-42cc-9f00-94576d68a588",
   "metadata": {},
   "outputs": [
    {
     "name": "stdout",
     "output_type": "stream",
     "text": [
      "My custom Error\n"
     ]
    }
   ],
   "source": [
    "try:\n",
    "    raise Exception(\"My custom Error\")\n",
    "except Exception as e:\n",
    "    print(e)"
   ]
  },
  {
   "cell_type": "code",
   "execution_count": 31,
   "id": "8dbb342e-27ac-47d9-b39c-78bf5056ec63",
   "metadata": {},
   "outputs": [],
   "source": [
    "class MyException(Exception):\n",
    "    def __init__(self,message):\n",
    "        self.message = message\n",
    "    def __str__(self):\n",
    "        return self.message"
   ]
  },
  {
   "cell_type": "code",
   "execution_count": 36,
   "id": "eb8f983f-fe1b-4fc7-9f70-40eb3991f725",
   "metadata": {},
   "outputs": [
    {
     "name": "stdout",
     "output_type": "stream",
     "text": [
      "Some errors\n"
     ]
    }
   ],
   "source": [
    "try:\n",
    "    raise MyException(\"Some errors\")\n",
    "except Exception as e:\n",
    "    print(e) # or ye hmara custom exception h to print(e.message) v kaam krega# Isse type dekho :-print(type(e)) MyException hi aayega\n",
    "    "
   ]
  },
  {
   "cell_type": "markdown",
   "id": "14833a3f-23b3-43b0-954b-aa5c36f9a221",
   "metadata": {},
   "source": [
    "### More statements in exception block are\n",
    "- else : will always execute if the try block did not threy error\n",
    "- finally: will always execute"
   ]
  },
  {
   "cell_type": "code",
   "execution_count": 41,
   "id": "54539b99-720c-4d34-8305-a58edbfa6357",
   "metadata": {},
   "outputs": [
    {
     "name": "stdout",
     "output_type": "stream",
     "text": [
      "Hello\n",
      "Woah\n",
      "BYe BYe\n"
     ]
    }
   ],
   "source": [
    "try:\n",
    "    print(\"Hello\")\n",
    "    print(10/0)\n",
    "except:\n",
    "    print(\"error occured\") #agr try ni hua to ye hoga!!\n",
    "else:\n",
    "    print(\"Woah\") # agr error ni aya to except ko skip krke ispe aayega!\n",
    "finally:\n",
    "    print(\"BYe BYe\") # ye to execute hoga hi"
   ]
  },
  {
   "cell_type": "code",
   "execution_count": 50,
   "id": "9065cb17-20c9-4e84-9025-78fd479b3f8e",
   "metadata": {},
   "outputs": [],
   "source": [
    "def func():\n",
    "    try:\n",
    "        return 1\n",
    "    except:\n",
    "        return 2\n",
    "    else:\n",
    "        return 3\n",
    "    finally:\n",
    "        return 4 # no matter what this will truncate(skip ) everything seedha finally block hoga bs\n",
    "        \n",
    "    "
   ]
  },
  {
   "cell_type": "code",
   "execution_count": 51,
   "id": "7bc3a385-c415-4d6f-9739-e92d5140ea75",
   "metadata": {},
   "outputs": [
    {
     "data": {
      "text/plain": [
       "4"
      ]
     },
     "execution_count": 51,
     "metadata": {},
     "output_type": "execute_result"
    }
   ],
   "source": [
    "func()"
   ]
  },
  {
   "cell_type": "markdown",
   "id": "86c263c9-83bc-4c9f-922a-354f8b1b6025",
   "metadata": {},
   "source": [
    "- with statement :- only used when pre-defined cleanup action"
   ]
  },
  {
   "cell_type": "code",
   "execution_count": 66,
   "id": "1ecb3ab6-96fe-4386-88e2-548cfd01ff71",
   "metadata": {},
   "outputs": [
    {
     "name": "stdout",
     "output_type": "stream",
     "text": [
      "ASABDOQWDBIObi\n"
     ]
    }
   ],
   "source": [
    "try:\n",
    "    file = open(\"something.txt\",\"r\")\n",
    "    print(file.read())\n",
    "except Exception as e:\n",
    "    print(e)\n",
    "finally:\n",
    "    file.close()"
   ]
  },
  {
   "cell_type": "code",
   "execution_count": 67,
   "id": "a2f404cf-0f53-4b3f-921f-31b69a1b2695",
   "metadata": {},
   "outputs": [
    {
     "name": "stdout",
     "output_type": "stream",
     "text": [
      "ASABDOQWDBIObi\n"
     ]
    }
   ],
   "source": [
    "with open(\"something.txt\",\"r\") as file:\n",
    "    print(file.read())"
   ]
  },
  {
   "cell_type": "markdown",
   "id": "fb0aa7c8-a6ba-4b09-926d-33d7aded0c44",
   "metadata": {},
   "source": []
  }
 ],
 "metadata": {
  "kernelspec": {
   "display_name": "Python 3 (ipykernel)",
   "language": "python",
   "name": "python3"
  },
  "language_info": {
   "codemirror_mode": {
    "name": "ipython",
    "version": 3
   },
   "file_extension": ".py",
   "mimetype": "text/x-python",
   "name": "python",
   "nbconvert_exporter": "python",
   "pygments_lexer": "ipython3",
   "version": "3.13.1"
  }
 },
 "nbformat": 4,
 "nbformat_minor": 5
}
