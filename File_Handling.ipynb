{
 "cells": [
  {
   "cell_type": "markdown",
   "id": "dacc1c99-b70a-493c-a8e6-9a83239009c9",
   "metadata": {},
   "source": [
    "### 1. Text File\n",
    "Opening a file"
   ]
  },
  {
   "cell_type": "code",
   "execution_count": 11,
   "id": "d6dd0bcd-1ad5-4c9a-bbbf-fea83e7f41a1",
   "metadata": {},
   "outputs": [],
   "source": [
    "file = open(\"hello.txt\",\"r\")"
   ]
  },
  {
   "cell_type": "code",
   "execution_count": 12,
   "id": "2021b540-1b9a-4fef-8050-ec340e400c29",
   "metadata": {},
   "outputs": [
    {
     "data": {
      "text/plain": [
       "'Hell'"
      ]
     },
     "execution_count": 12,
     "metadata": {},
     "output_type": "execute_result"
    }
   ],
   "source": [
    "#file.read()\n",
    "#We can also tell that how many bytes (Letters ) to be read\n",
    "file.read(4)"
   ]
  },
  {
   "cell_type": "markdown",
   "id": "1115d33c-7801-494b-afab-7dfb65dcb875",
   "metadata": {},
   "source": [
    "Closing a file"
   ]
  },
  {
   "cell_type": "code",
   "execution_count": 9,
   "id": "51d08201-d8d3-48ba-a60a-bd7e4d056b45",
   "metadata": {},
   "outputs": [],
   "source": [
    "file.close()# very important"
   ]
  },
  {
   "cell_type": "markdown",
   "id": "5f65c722-09cf-4311-b82d-8bbff9a9788c",
   "metadata": {},
   "source": [
    "### WRiting in a file\n",
    "\n",
    "1. write\n",
    "2. writelines"
   ]
  },
  {
   "cell_type": "code",
   "execution_count": 13,
   "id": "522f1944-1b2a-4034-bc40-e019aa5b02b2",
   "metadata": {},
   "outputs": [
    {
     "data": {
      "text/plain": [
       "21"
      ]
     },
     "execution_count": 13,
     "metadata": {},
     "output_type": "execute_result"
    }
   ],
   "source": [
    "file =open(\"Something.txt\",\"w\")\n",
    "file.write(\"hello from other side\")\n",
    "\n"
   ]
  },
  {
   "cell_type": "code",
   "execution_count": 14,
   "id": "d61d908a-fef6-4dd0-8026-cb318608dbb7",
   "metadata": {},
   "outputs": [],
   "source": [
    "file.close()"
   ]
  },
  {
   "cell_type": "markdown",
   "id": "45984968-b6cc-4fe1-963f-a0802022d64b",
   "metadata": {},
   "source": [
    "### Reading from file\n",
    "1.read\n",
    "2. readlines\n",
    "3. readline"
   ]
  },
  {
   "cell_type": "code",
   "execution_count": 25,
   "id": "d0ee51ec-7cd0-46ce-a709-7761fd696263",
   "metadata": {},
   "outputs": [],
   "source": [
    "file= open(\"hello.txt\",\"r\")"
   ]
  },
  {
   "cell_type": "code",
   "execution_count": 22,
   "id": "fedb1e45-c669-4014-912c-1289b22c181b",
   "metadata": {},
   "outputs": [
    {
     "data": {
      "text/plain": [
       "''"
      ]
     },
     "execution_count": 22,
     "metadata": {},
     "output_type": "execute_result"
    }
   ],
   "source": [
    "file.readline()# it will read line by line"
   ]
  },
  {
   "cell_type": "code",
   "execution_count": 23,
   "id": "1defda3d-0f7a-4ccc-ab89-6d48c9fbcab1",
   "metadata": {},
   "outputs": [],
   "source": [
    "file.close()"
   ]
  },
  {
   "cell_type": "code",
   "execution_count": 26,
   "id": "de65d6bf-88bf-4b77-8928-70bce1e24462",
   "metadata": {},
   "outputs": [
    {
     "data": {
      "text/plain": [
       "['Hello World!!\\n', 'Hello my name is rishav\\n', 'Hello my sirname is rathor']"
      ]
     },
     "execution_count": 26,
     "metadata": {},
     "output_type": "execute_result"
    }
   ],
   "source": [
    "file.readlines()"
   ]
  },
  {
   "cell_type": "markdown",
   "id": "2f39b3fe-cc85-43d6-817b-317bf3a0936e",
   "metadata": {},
   "source": [
    "### Moving a cursor\n",
    "1. seek(n): takes the file handle to the nth byte from the beginning"
   ]
  },
  {
   "cell_type": "code",
   "execution_count": 27,
   "id": "e82ce421-6828-42a9-9195-a1f8f9c9c9cb",
   "metadata": {},
   "outputs": [
    {
     "data": {
      "text/plain": [
       "'Hello'"
      ]
     },
     "execution_count": 27,
     "metadata": {},
     "output_type": "execute_result"
    }
   ],
   "source": [
    "file = open(\"hello.txt\",\"r\")\n",
    "file.read(5)"
   ]
  },
  {
   "cell_type": "code",
   "execution_count": 28,
   "id": "c14754b2-86c1-4d09-b50c-263886a8582f",
   "metadata": {},
   "outputs": [
    {
     "data": {
      "text/plain": [
       "' World!!\\nHello my name is rishav\\nHello my sirname is rathor'"
      ]
     },
     "execution_count": 28,
     "metadata": {},
     "output_type": "execute_result"
    }
   ],
   "source": [
    "file.read()"
   ]
  },
  {
   "cell_type": "code",
   "execution_count": 29,
   "id": "edf715cd-b63f-4482-a8a7-679bb306db98",
   "metadata": {},
   "outputs": [
    {
     "data": {
      "text/plain": [
       "2"
      ]
     },
     "execution_count": 29,
     "metadata": {},
     "output_type": "execute_result"
    }
   ],
   "source": [
    "file.seek(2)"
   ]
  },
  {
   "cell_type": "code",
   "execution_count": 30,
   "id": "66bcfd01-3fa9-4f71-9786-9c427ed0aa85",
   "metadata": {},
   "outputs": [
    {
     "data": {
      "text/plain": [
       "'llo World!!\\nHello my name is rishav\\nHello my sirname is rathor'"
      ]
     },
     "execution_count": 30,
     "metadata": {},
     "output_type": "execute_result"
    }
   ],
   "source": [
    "file.read()"
   ]
  },
  {
   "cell_type": "code",
   "execution_count": 31,
   "id": "b5810175-708a-4fc1-b451-e577502bee99",
   "metadata": {},
   "outputs": [],
   "source": [
    "file.close()"
   ]
  },
  {
   "cell_type": "markdown",
   "id": "7df98773-4d36-4775-b449-4ec66f48e626",
   "metadata": {},
   "source": [
    "### File handling with JSON:-\n",
    "## Methods are\n",
    "1. json.dump(obj,fileObj)\n",
    "2. json.dumps(obj)\n",
    "3. json.load(JSONfile)\n",
    "4. json.loads(JSONfile)"
   ]
  },
  {
   "cell_type": "code",
   "execution_count": 2,
   "id": "dc70e363-5382-49c9-b621-6a974c37cf09",
   "metadata": {},
   "outputs": [],
   "source": [
    "import json"
   ]
  },
  {
   "cell_type": "code",
   "execution_count": 5,
   "id": "63613b46-1bfe-450e-bcf6-2c3b7491f1d5",
   "metadata": {},
   "outputs": [
    {
     "name": "stdout",
     "output_type": "stream",
     "text": [
      "Rishav\n",
      "90\n"
     ]
    }
   ],
   "source": [
    "with open(\"data.json\",\"r\") as file:\n",
    "    d= json.load(file)\n",
    "    print(d[\"name\"])\n",
    "    print(d[\"Marks\"]) #data.json me jo cheeze h wahi same likho case sensitive h ye\n",
    "    "
   ]
  },
  {
   "cell_type": "code",
   "execution_count": 7,
   "id": "1f3a414d-4b5d-434d-8496-fc928b7f9866",
   "metadata": {},
   "outputs": [
    {
     "name": "stdout",
     "output_type": "stream",
     "text": [
      "{\n",
      "    \"name\": \"Rishav\",\n",
      "    \"Marks\": 90,\n",
      "    \"Subjects\":[\"eng\",\"maths\"]\n",
      "}\n",
      "{'name': 'Rishav', 'Marks': 90, 'Subjects': ['eng', 'maths']}\n"
     ]
    }
   ],
   "source": [
    "with open(\"data.json\",\"r\") as file:\n",
    "    data=file.read()\n",
    "    print(data)\n",
    "    d= json.loads(data)\n",
    "    print(d)"
   ]
  },
  {
   "cell_type": "code",
   "execution_count": 8,
   "id": "17daf895-b908-41db-942b-b6483228721c",
   "metadata": {},
   "outputs": [],
   "source": [
    "d= {'name': 'Rishav', 'Marks': 90, 'Subjects': ['eng', 'maths']}"
   ]
  },
  {
   "cell_type": "code",
   "execution_count": 10,
   "id": "53abb5ae-0684-4377-8506-a0b20af24df2",
   "metadata": {},
   "outputs": [
    {
     "data": {
      "text/plain": [
       "'Rishav'"
      ]
     },
     "execution_count": 10,
     "metadata": {},
     "output_type": "execute_result"
    }
   ],
   "source": [
    "d[\"name\"]"
   ]
  },
  {
   "cell_type": "code",
   "execution_count": 11,
   "id": "80c0464b-a841-4086-aadf-b667e8971bdd",
   "metadata": {},
   "outputs": [],
   "source": [
    "string = json.dumps(d) #strings into a json file and in dumps, dump mean converting to json and s means string"
   ]
  },
  {
   "cell_type": "code",
   "execution_count": 12,
   "id": "3723a336-2b46-4910-9247-8a367c04d214",
   "metadata": {},
   "outputs": [
    {
     "name": "stdout",
     "output_type": "stream",
     "text": [
      "<class 'str'>\n"
     ]
    }
   ],
   "source": [
    "print(type(string))"
   ]
  },
  {
   "cell_type": "code",
   "execution_count": 13,
   "id": "98443bfa-ed62-4441-b178-127648366072",
   "metadata": {},
   "outputs": [],
   "source": [
    "with open(\"data2.json\",\"w\") as file:\n",
    "    json.dump(d, file) #new file bana diya or string json ke form me same krdiya crawling me kaam aayega!1\n",
    "    "
   ]
  },
  {
   "cell_type": "code",
   "execution_count": null,
   "id": "77b4cc7d-ecad-453f-a5ef-510d5ee94ecd",
   "metadata": {},
   "outputs": [],
   "source": []
  }
 ],
 "metadata": {
  "kernelspec": {
   "display_name": "Python 3 (ipykernel)",
   "language": "python",
   "name": "python3"
  },
  "language_info": {
   "codemirror_mode": {
    "name": "ipython",
    "version": 3
   },
   "file_extension": ".py",
   "mimetype": "text/x-python",
   "name": "python",
   "nbconvert_exporter": "python",
   "pygments_lexer": "ipython3",
   "version": "3.13.1"
  }
 },
 "nbformat": 4,
 "nbformat_minor": 5
}
