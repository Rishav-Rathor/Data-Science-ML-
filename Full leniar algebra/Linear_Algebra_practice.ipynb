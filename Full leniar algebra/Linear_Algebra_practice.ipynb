{
 "cells": [
  {
   "cell_type": "code",
   "execution_count": 3,
   "id": "7f60559c-d693-41bd-a94a-21e02b816cc6",
   "metadata": {},
   "outputs": [
    {
     "name": "stdout",
     "output_type": "stream",
     "text": [
      "[[4]\n",
      " [5]\n",
      " [6]]\n",
      "(3, 1)\n"
     ]
    }
   ],
   "source": [
    "##Basic sclalar and vectors\n",
    "\n",
    "import numpy as np\n",
    "\n",
    "x = np.array([[4],[5],[6]])\n",
    "print(x)\n",
    "print(x.shape)"
   ]
  },
  {
   "cell_type": "code",
   "execution_count": 10,
   "id": "c237d6a8-f617-43d9-8f96-ac4782e593fa",
   "metadata": {},
   "outputs": [
    {
     "name": "stdout",
     "output_type": "stream",
     "text": [
      "(3, 4)\n",
      "[[ 4  5  7 10 10 11]\n",
      " [13 11 56 80 90 12]]\n"
     ]
    }
   ],
   "source": [
    "#Matrics and tensors \n",
    "\n",
    "x = np.array([[4,5,7,10],[10,11,13,11],[56,80,90,12]])\n",
    "print(x.shape)\n",
    "x = x.reshape((2,-1))\n",
    "print(x)"
   ]
  },
  {
   "cell_type": "code",
   "execution_count": 39,
   "id": "54a8a43a-5bb4-4f23-a3e7-4fee0c281513",
   "metadata": {},
   "outputs": [
    {
     "data": {
      "text/plain": [
       "<matplotlib.image.AxesImage at 0x1c4e209ae90>"
      ]
     },
     "execution_count": 39,
     "metadata": {},
     "output_type": "execute_result"
    },
    {
     "data": {
      "image/png": "[encoded data removed]",
      "text/plain": [
       "<Figure size 640x480 with 1 Axes>"
      ]
     },
     "metadata": {},
     "output_type": "display_data"
    }
   ],
   "source": [
    "#Transpose\n",
    "t = np.ones((5,5,3),dtype = 'uint8')\n",
    "t[ : , : ,2] =255\n",
    "\n",
    "import matplotlib.pyplot as plt\n",
    "\n",
    "plt.imshow(t)"
   ]
  },
  {
   "cell_type": "code",
   "execution_count": 23,
   "id": "3cf25446-b279-406e-8a3b-44ab3bd73602",
   "metadata": {},
   "outputs": [
    {
     "name": "stdout",
     "output_type": "stream",
     "text": [
      "[[ 4  5  7 10]\n",
      " [10 11 13 11]\n",
      " [56 80 90 12]]\n",
      "[[ 4 10 56]\n",
      " [ 5 11 80]\n",
      " [ 7 13 90]\n",
      " [10 11 12]]\n"
     ]
    }
   ],
   "source": [
    "#Transpose\n",
    "\n",
    "x = x.reshape((3,4))\n",
    "print(x)\n",
    "print(x.T)"
   ]
  },
  {
   "cell_type": "code",
   "execution_count": 28,
   "id": "1f5fabdb-7844-485a-b7ab-bbe213aaf37a",
   "metadata": {},
   "outputs": [
    {
     "name": "stdout",
     "output_type": "stream",
     "text": [
      "(3, 5, 5)\n"
     ]
    },
    {
     "data": {
      "text/plain": [
       "array([  1,   1, 255], dtype=uint8)"
      ]
     },
     "execution_count": 28,
     "metadata": {},
     "output_type": "execute_result"
    }
   ],
   "source": [
    "#Transpose of a tensors\n",
    "\n",
    "t.shape\n",
    "t1 = np.transpose(t,axes = (2,0,1))\n",
    "print(t1.shape)\n",
    "t[0][0]\n"
   ]
  },
  {
   "cell_type": "code",
   "execution_count": 30,
   "id": "42e688f3-a6e7-4901-b47f-987b0a9827a9",
   "metadata": {},
   "outputs": [
    {
     "name": "stdout",
     "output_type": "stream",
     "text": [
      "[1 2 3 4]\n",
      "[5 6 7 8]\n"
     ]
    }
   ],
   "source": [
    "#Broadcasting\n",
    "#It is basically a extra feature of numpy array as it does'nt performs in pyhton list\n",
    "\n",
    "x = np.array([1,2,3,4])\n",
    "print(x)\n",
    "print(x+4)"
   ]
  },
  {
   "cell_type": "code",
   "execution_count": 32,
   "id": "85b68eaa-ca68-47a7-95a1-122770dc9ef4",
   "metadata": {},
   "outputs": [
    {
     "name": "stdout",
     "output_type": "stream",
     "text": [
      "[[10 20 30 40]\n",
      " [40 50 60 70]]\n",
      "[[11 22 33 44]\n",
      " [41 52 63 74]]\n"
     ]
    }
   ],
   "source": [
    " X = np.array([[10,20,30,40],[40,50,60,70]])\n",
    "\n",
    "print(X)\n",
    "print(X+x) #This also allows vector + matrix addition"
   ]
  },
  {
   "cell_type": "code",
   "execution_count": 35,
   "id": "df6d7b23-efed-496f-949f-cef0aa902b79",
   "metadata": {},
   "outputs": [
    {
     "data": {
      "text/plain": [
       "array([[ 6,  6],\n",
       "       [12, 14]])"
      ]
     },
     "execution_count": 35,
     "metadata": {},
     "output_type": "execute_result"
    }
   ],
   "source": [
    "#Matrix Multiplocation/ Dot product\n",
    "\n",
    "A = np.array([[1,2],[3,4]])\n",
    "B = np.array([[0,2],[3,2]])\n",
    "\n",
    "A*B #It gives element wise multiplications\n",
    " \n",
    "np.dot(A,B) #It gives matrix multiplications"
   ]
  },
  {
   "cell_type": "code",
   "execution_count": 41,
   "id": "25370615-40c6-409d-90fc-22371ff5f657",
   "metadata": {},
   "outputs": [
    {
     "data": {
      "text/plain": [
       "array([[-1, 15],\n",
       "       [-9, 26],\n",
       "       [-2, 11],\n",
       "       [ 0,  0]])"
      ]
     },
     "execution_count": 41,
     "metadata": {},
     "output_type": "execute_result"
    }
   ],
   "source": [
    "A = np.array([[1,-3,4],[-2,10,-7],[0,1,0],[0,0,0]])\n",
    "B = np.array([[5,0],[-2,11],[-3,12]])\n",
    "np.dot(A,B)"
   ]
  },
  {
   "cell_type": "code",
   "execution_count": null,
   "id": "8dc0be54-1450-4718-beee-91599f6fbbde",
   "metadata": {},
   "outputs": [],
   "source": []
  }
 ],
 "metadata": {
  "kernelspec": {
   "display_name": "Python 3 (ipykernel)",
   "language": "python",
   "name": "python3"
  },
  "language_info": {
   "codemirror_mode": {
    "name": "ipython",
    "version": 3
   },
   "file_extension": ".py",
   "mimetype": "text/x-python",
   "name": "python",
   "nbconvert_exporter": "python",
   "pygments_lexer": "ipython3",
   "version": "3.13.2"
  }
 },
 "nbformat": 4,
 "nbformat_minor": 5
}
