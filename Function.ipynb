{
 "cells": [
  {
   "cell_type": "markdown",
   "id": "f044f54c-eabe-43e5-83c4-06f4e406bf75",
   "metadata": {},
   "source": [
    "Without parameters\n"
   ]
  },
  {
   "cell_type": "code",
   "execution_count": 1,
   "id": "9d9b9a72-5959-43eb-8296-c27dfadcc7d0",
   "metadata": {},
   "outputs": [],
   "source": [
    "def knock():\n",
    "    print(\"Knock Knock Rishav!\")\n",
    "    print(\"Knock Knock Rishav!\")\n",
    "    print(\"Knock Knock Rishav!\")"
   ]
  },
  {
   "cell_type": "code",
   "execution_count": 2,
   "id": "ebf5483a-88f3-4eb7-81b9-25046aa7b978",
   "metadata": {},
   "outputs": [
    {
     "name": "stdout",
     "output_type": "stream",
     "text": [
      "Knock Knock Rishav!\n",
      "Knock Knock Rishav!\n",
      "Knock Knock Rishav!\n"
     ]
    }
   ],
   "source": [
    "knock()"
   ]
  },
  {
   "cell_type": "markdown",
   "id": "27e4409e-07b2-4bf4-9396-580ccf0c5efe",
   "metadata": {},
   "source": [
    "With Parameters\n"
   ]
  },
  {
   "cell_type": "code",
   "execution_count": 3,
   "id": "918df66c-720e-4772-842e-8a0cd9f7e4a0",
   "metadata": {},
   "outputs": [],
   "source": [
    "def knock(name):\n",
    "    print(\"Knock Knock {} \" .format(name))\n",
    "    print(\"Knock Knock {} \" .format(name))\n",
    "    print(\"Knock Knock {} \" .format(name))"
   ]
  },
  {
   "cell_type": "code",
   "execution_count": 5,
   "id": "941799f8-de73-456d-a0e6-30b5c3fa04d3",
   "metadata": {},
   "outputs": [
    {
     "name": "stdout",
     "output_type": "stream",
     "text": [
      "Knock Knock Rishav \n",
      "Knock Knock Rishav \n",
      "Knock Knock Rishav \n"
     ]
    }
   ],
   "source": [
    "knock(\"Rishav\")"
   ]
  },
  {
   "cell_type": "markdown",
   "id": "7c2c6b8d-a346-48c5-981a-5d9230a3983d",
   "metadata": {},
   "source": [
    "###Taking two parameters for the same"
   ]
  },
  {
   "cell_type": "code",
   "execution_count": 6,
   "id": "e129678a-c519-4de8-a87a-4766a53c627c",
   "metadata": {},
   "outputs": [],
   "source": [
    "def knock(name,times = 4):\n",
    "    for i in range(times):\n",
    "        print(f\"Hello {name}!\")"
   ]
  },
  {
   "cell_type": "code",
   "execution_count": 17,
   "id": "7b2fb26e-afae-4084-a544-ec4f8543ef16",
   "metadata": {},
   "outputs": [
    {
     "name": "stdout",
     "output_type": "stream",
     "text": [
      "Knock knock Rishav\n",
      "Knock knock Rishav\n",
      "Knock knock Rishav\n",
      "Knock knock Rishav\n",
      "Knock knock Rishav\n"
     ]
    }
   ],
   "source": [
    "knock(\"Rishav\", 5)"
   ]
  },
  {
   "cell_type": "markdown",
   "id": "03a7694e-63d0-4ac9-9b8c-f120f30684da",
   "metadata": {},
   "source": [
    "If you want to give default parameter (default nhi lega agr explicitely de doge)"
   ]
  },
  {
   "cell_type": "code",
   "execution_count": 19,
   "id": "f4681c24-4a6d-4d09-b320-ce8c8921d272",
   "metadata": {},
   "outputs": [
    {
     "ename": "TypeError",
     "evalue": "knock() missing 1 required positional argument: 'times'",
     "output_type": "error",
     "traceback": [
      "\u001b[1;31m---------------------------------------------------------------------------\u001b[0m",
      "\u001b[1;31mTypeError\u001b[0m                                 Traceback (most recent call last)",
      "Cell \u001b[1;32mIn[19], line 1\u001b[0m\n\u001b[1;32m----> 1\u001b[0m \u001b[43mknock\u001b[49m\u001b[43m(\u001b[49m\u001b[38;5;124;43m\"\u001b[39;49m\u001b[38;5;124;43mRishav\u001b[39;49m\u001b[38;5;124;43m\"\u001b[39;49m\u001b[43m,\u001b[49m\u001b[43m)\u001b[49m\n",
      "\u001b[1;31mTypeError\u001b[0m: knock() missing 1 required positional argument: 'times'"
     ]
    }
   ],
   "source": [
    "knock(\"Rishav\") #hone ese hi chahiye tha"
   ]
  },
  {
   "cell_type": "markdown",
   "id": "f3dcf348-90fd-468a-8817-375a407d37cd",
   "metadata": {},
   "source": [
    "### Return Statement"
   ]
  },
  {
   "cell_type": "code",
   "execution_count": 20,
   "id": "df4181bd-f42e-444d-82e5-081a4d4c49c9",
   "metadata": {},
   "outputs": [],
   "source": [
    "def add(a,b):\n",
    "    return a+b"
   ]
  },
  {
   "cell_type": "code",
   "execution_count": 22,
   "id": "f4fcac98-e5ee-4292-ad37-202eef3bab98",
   "metadata": {},
   "outputs": [
    {
     "name": "stdout",
     "output_type": "stream",
     "text": [
      "9\n"
     ]
    }
   ],
   "source": [
    "print(add(4,5))"
   ]
  },
  {
   "cell_type": "code",
   "execution_count": 25,
   "id": "da8d6c08-cacb-4bb0-9c2b-4278a3be5c3b",
   "metadata": {},
   "outputs": [],
   "source": [
    "def div(a,b):\n",
    "    try:\n",
    "        return a/b\n",
    "    except:\n",
    "        print(\"Error\")\n",
    "    finally:\n",
    "        print(\"Wrapping Up\")\n",
    "        return 10"
   ]
  },
  {
   "cell_type": "code",
   "execution_count": 26,
   "id": "3778cfb3-ee3c-4af6-86fd-0e1d7d786be3",
   "metadata": {},
   "outputs": [
    {
     "name": "stdout",
     "output_type": "stream",
     "text": [
      "Wrapping Up\n"
     ]
    },
    {
     "data": {
      "text/plain": [
       "10"
      ]
     },
     "execution_count": 26,
     "metadata": {},
     "output_type": "execute_result"
    }
   ],
   "source": [
    "div(10,5)"
   ]
  },
  {
   "cell_type": "code",
   "execution_count": null,
   "id": "a3cbf3c5-1d0f-466c-91a0-a7b4386b59ce",
   "metadata": {},
   "outputs": [],
   "source": []
  }
 ],
 "metadata": {
  "kernelspec": {
   "display_name": "Python 3 (ipykernel)",
   "language": "python",
   "name": "python3"
  },
  "language_info": {
   "codemirror_mode": {
    "name": "ipython",
    "version": 3
   },
   "file_extension": ".py",
   "mimetype": "text/x-python",
   "name": "python",
   "nbconvert_exporter": "python",
   "pygments_lexer": "ipython3",
   "version": "3.13.1"
  }
 },
 "nbformat": 4,
 "nbformat_minor": 5
}
