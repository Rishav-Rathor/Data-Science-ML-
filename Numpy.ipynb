{
 "cells": [
  {
   "cell_type": "code",
   "execution_count": 1,
   "id": "94ea66ae-5aa5-41a2-9d9e-d9d70de73d8a",
   "metadata": {},
   "outputs": [],
   "source": [
    "import numpy as np"
   ]
  },
  {
   "cell_type": "code",
   "execution_count": 6,
   "id": "db98e4a2-227f-4b64-86b9-81cb28425b9b",
   "metadata": {},
   "outputs": [
    {
     "name": "stdout",
     "output_type": "stream",
     "text": [
      "[1 2 3 4 5]\n",
      "<class 'numpy.ndarray'>\n",
      "(5,)\n"
     ]
    }
   ],
   "source": [
    "a = np.array([1,2,3,4,5])\n",
    "print(a)\n",
    "print(type(a))\n",
    "\n",
    "print(a.shape) #This give size or shape which help us to know that it is leniar or not"
   ]
  },
  {
   "cell_type": "code",
   "execution_count": 9,
   "id": "6413dd8e-e485-4b0f-83f5-2732f2ff8f2f",
   "metadata": {},
   "outputs": [
    {
     "name": "stdout",
     "output_type": "stream",
     "text": [
      "[[1]\n",
      " [2]\n",
      " [3]\n",
      " [4]\n",
      " [5]]\n",
      "(5, 1)\n"
     ]
    }
   ],
   "source": [
    "b = np.array([[1],[2],[3],[4],[5]])\n",
    "print(b)\n",
    "print(b.shape)"
   ]
  },
  {
   "cell_type": "code",
   "execution_count": 14,
   "id": "2bffd9c2-2b48-473e-82e5-0ed56674ce74",
   "metadata": {},
   "outputs": [
    {
     "name": "stdout",
     "output_type": "stream",
     "text": [
      "[[1 2 3]\n",
      " [4 5 6]]\n",
      "(2, 3)\n",
      "6\n"
     ]
    }
   ],
   "source": [
    "c = np.array([[1,2,3],[4,5,6]])\n",
    "print(c)\n",
    "print(c.shape)\n",
    "print(c[1][2])"
   ]
  },
  {
   "cell_type": "code",
   "execution_count": 35,
   "id": "bace562c-b22d-49f2-af97-cc885e4a5a24",
   "metadata": {},
   "outputs": [
    {
     "name": "stdout",
     "output_type": "stream",
     "text": [
      "[[0. 0. 0.]\n",
      " [0. 0. 0.]\n",
      " [0. 0. 0.]]\n",
      "[[1. 1. 1.]\n",
      " [1. 1. 1.]]\n",
      "[[8 8 8]\n",
      " [8 8 8]]\n",
      "[[1. 0. 0.]\n",
      " [0. 1. 0.]\n",
      " [0. 0. 1.]]\n",
      "[[0.67156289 0.18037831 0.06014899]\n",
      " [0.24321391 0.59670893 0.47932292]]\n",
      "[0.06014899 0.47932292]\n"
     ]
    }
   ],
   "source": [
    "#Create array of zeroes ,ones or any custom array\n",
    "a = np.zeros((3,3))\n",
    "print(a)\n",
    "\n",
    "b= np.ones((2,3))\n",
    "print(b)\n",
    "\n",
    "#Array of some constants\n",
    "c = np.full((2,3),8)\n",
    "print(c)\n",
    "\n",
    "#Identity Matrix - size/square matrix\n",
    "\n",
    "d = np.eye(3)\n",
    "print (d)\n",
    "\n",
    "randomatrix = np.random.random((2,3))\n",
    "print(randomatrix)\n",
    "\n",
    "#Now let me show an awesome trick as i want to print the second column of each row \n",
    "# We want same column and do not have to look for specific row or something (Hame each row chahiye)\n",
    "\n",
    "print(randomatrix[ : ,2]) #YE rows ko skip krdega srif 2nd column dekhega\n"
   ]
  },
  {
   "cell_type": "code",
   "execution_count": 53,
   "id": "75014d9a-58d1-41e3-b8cb-748e7641806d",
   "metadata": {},
   "outputs": [
    {
     "name": "stdout",
     "output_type": "stream",
     "text": [
      "[[0 0 7]\n",
      " [5 5 7]\n",
      " [0 0 7]]\n"
     ]
    }
   ],
   "source": [
    "## Set some rows and columns with any values\n",
    "\n",
    "z = np.zeros((3,3), dtype = np.int64)\n",
    "z[1,:] = 5\n",
    "\n",
    "z[ : ,-1] = 7\n",
    "print(z)"
   ]
  },
  {
   "cell_type": "code",
   "execution_count": 54,
   "id": "6a0c5cb5-dfd9-4a2d-9374-1a25e5ea282f",
   "metadata": {},
   "outputs": [
    {
     "name": "stdout",
     "output_type": "stream",
     "text": [
      "int64\n"
     ]
    }
   ],
   "source": [
    "# Numpy array also have datatypes ig which are automatically float\n",
    "print(z.dtype)\n",
    "\n",
    "#We can change the datatype or we can manually specify it like we did above with z\n",
    "\n"
   ]
  },
  {
   "cell_type": "code",
   "execution_count": 58,
   "id": "66d93b58-d333-42c9-b5a1-df7f243b3005",
   "metadata": {},
   "outputs": [
    {
     "name": "stdout",
     "output_type": "stream",
     "text": [
      "[[ 6  8]\n",
      " [10 12]]\n",
      "[[ 6  8]\n",
      " [10 12]]\n",
      "[[-4 -4]\n",
      " [-4 -4]]\n"
     ]
    }
   ],
   "source": [
    "#Matematical Operations\n",
    "\n",
    "x = np.array([[1,2],[3,4]])\n",
    "y = np.array([[5,6],[7,8]])\n",
    "\n",
    "#Element wise addition\n",
    "print(x+y)\n",
    "print(np.add(x,y))\n",
    "print(x-y)\n",
    "# and same like np.add"
   ]
  },
  {
   "cell_type": "code",
   "execution_count": 65,
   "id": "5a39f094-2ac2-48ad-ba4c-f44e38bc2323",
   "metadata": {},
   "outputs": [
    {
     "name": "stdout",
     "output_type": "stream",
     "text": [
      "[[ 5 12]\n",
      " [21 32]]\n",
      "[[ 5 12]\n",
      " [21 32]]\n",
      "[[0.2        0.33333333]\n",
      " [0.42857143 0.5       ]]\n",
      "[[0.2        0.33333333]\n",
      " [0.42857143 0.5       ]]\n",
      "[[1.         1.41421356]\n",
      " [1.73205081 2.        ]]\n"
     ]
    }
   ],
   "source": [
    "print(x*y)\n",
    "#or\n",
    "print(np.multiply(x,y))\n",
    "print(x/y)\n",
    "print(np.divide(x,y))\n",
    "print(np.sqrt(x))\n",
    "\n",
    "### These was element wise multiplication not matrix multiplication"
   ]
  },
  {
   "cell_type": "code",
   "execution_count": 68,
   "id": "eb5cff63-3e44-4a0b-86a4-7a0473d38837",
   "metadata": {},
   "outputs": [
    {
     "name": "stdout",
     "output_type": "stream",
     "text": [
      "[[1 2]\n",
      " [3 4]]\n",
      "[[5 6]\n",
      " [7 8]]\n",
      "[[19 22]\n",
      " [43 50]]\n",
      "[[19 22]\n",
      " [43 50]]\n"
     ]
    }
   ],
   "source": [
    "### Matrix Multiplication / Dot products\n",
    "\n",
    "print(x)\n",
    "print(y)\n",
    "\n",
    "print(x.dot(y))\n",
    "print(np.dot(x,y))"
   ]
  },
  {
   "cell_type": "code",
   "execution_count": 103,
   "id": "094b5aea-9b74-43f8-8e9e-67e03b03ffd8",
   "metadata": {},
   "outputs": [
    {
     "name": "stdout",
     "output_type": "stream",
     "text": [
      "30\n",
      "[1 2 3 4]\n",
      "10\n"
     ]
    }
   ],
   "source": [
    "#Multiplication of vectors (Vectors we can treat as leniar array) - And Dot products of vector will give scalar value(single value)\n",
    "a= np.array([1,2,3,4])\n",
    "b = np.array([1,2,3,4])\n",
    "print(a.dot(b))\n",
    "\n",
    "print(a)\n",
    "print(sum(a))"
   ]
  },
  {
   "cell_type": "code",
   "execution_count": 76,
   "id": "0256da25-6d8b-4841-a26d-065a54196bfe",
   "metadata": {},
   "outputs": [
    {
     "name": "stdout",
     "output_type": "stream",
     "text": [
      "10\n",
      "[3 7]\n"
     ]
    }
   ],
   "source": [
    "print(np.sum(x))\n",
    "print(np.sum(x,axis = 1)) #Ye x axis me sum krega 1st column ko "
   ]
  },
  {
   "cell_type": "code",
   "execution_count": 104,
   "id": "746526f5-20ea-4c82-a10e-24d5524c0119",
   "metadata": {},
   "outputs": [
    {
     "name": "stdout",
     "output_type": "stream",
     "text": [
      "[1 2 3 4]\n",
      "[ 1  4  9 16]\n"
     ]
    }
   ],
   "source": [
    "#Stacking of arrays \n",
    "print(a)\n",
    "b = b**2\n",
    "print(b)"
   ]
  },
  {
   "cell_type": "code",
   "execution_count": 106,
   "id": "7d0a3217-1a23-4d5e-b0b0-a277d89255e6",
   "metadata": {},
   "outputs": [],
   "source": [
    "a= np.stack((a,b),axis =1)\n"
   ]
  },
  {
   "cell_type": "code",
   "execution_count": 111,
   "id": "d3c1b2be-218a-4ff6-bd21-5f38c789079c",
   "metadata": {},
   "outputs": [
    {
     "name": "stdout",
     "output_type": "stream",
     "text": [
      "[[ 1  1  2  4]\n",
      " [ 3  9  4 16]]\n"
     ]
    }
   ],
   "source": [
    "#Reshape a numpy array \n",
    "#print(a)\n",
    "a=a.reshape((-1,4))\n",
    "print(a)"
   ]
  },
  {
   "cell_type": "markdown",
   "id": "735ebf7b-2e09-48fc-8f82-5e1b951530f4",
   "metadata": {},
   "source": [
    "### Some more Numpy Functions - Stats\n",
    "\n",
    "- Min,Max\n",
    "- Mean\n",
    "- Median\n",
    "- Average\n",
    "- Variance\n",
    "- Standard Deviation\n",
    "  "
   ]
  },
  {
   "cell_type": "code",
   "execution_count": 117,
   "id": "9aa8fb14-452f-4e12-810c-c0d81af47f2d",
   "metadata": {},
   "outputs": [
    {
     "name": "stdout",
     "output_type": "stream",
     "text": [
      "[[1 2 3 4]\n",
      " [5 6 7 8]]\n",
      "1\n",
      "[1 2 3 4]\n",
      "[1 5]\n"
     ]
    }
   ],
   "source": [
    "a = np.array ([[1,2,3,4],[5,6,7,8]])\n",
    "print(a)\n",
    "print(np.min(a))\n",
    "#Specify axis for the direction in case multidimentional array\n",
    "print(np.min(a,axis=0))\n",
    "print(np.min(a,axis = 1))\n"
   ]
  },
  {
   "cell_type": "code",
   "execution_count": 121,
   "id": "82faf81a-5de8-41b3-a6d7-a1af7539257e",
   "metadata": {},
   "outputs": [
    {
     "name": "stdout",
     "output_type": "stream",
     "text": [
      "3.0\n",
      "3.0\n",
      "[3. 4. 5. 6.]\n",
      "[2.5 6.5]\n"
     ]
    }
   ],
   "source": [
    "# MEan, Median average all the elements\n",
    "\n",
    "b =  np.array([1,2,3,4,5])\n",
    "m = sum(b)/5\n",
    "print(m)\n",
    "\n",
    "print(np.mean(b))\n",
    "print(np.mean(a,axis = 0))\n",
    "print(np.mean(a,axis = 1))\n"
   ]
  },
  {
   "cell_type": "code",
   "execution_count": 130,
   "id": "4376d291-4134-48dd-ab00-3fc498b2e24f",
   "metadata": {},
   "outputs": [
    {
     "name": "stdout",
     "output_type": "stream",
     "text": [
      "2.0\n",
      "2.4\n",
      "2.066666666666667\n",
      "1.854723699099141\n",
      "1.854723699099141\n",
      "3.440000000000001\n",
      "3.4400000000000004\n"
     ]
    }
   ],
   "source": [
    "c = np.array([1,5,4,2,0]) #Ye ese hi dekh kr beech ki value ni deta arrange krke dekhta h\n",
    "print(np.median(c))\n",
    "\n",
    "# Mean vs Average \n",
    "print(np.mean(c))\n",
    "w = np.array([1,2,3,4,5])\n",
    "print(np.average(c,weights = w))\n",
    "\n",
    "#Standard Deviation \n",
    "u = np.mean(c)\n",
    "myStd = np.sqrt(np.mean(abs(c-u)**2))\n",
    "print(myStd)\n",
    "\n",
    "#Now python given inbuilt function\n",
    "print(np.std(c))\n",
    "\n",
    "#Varience\n",
    "print(myStd**2)\n",
    "print(np.var(c))"
   ]
  },
  {
   "cell_type": "code",
   "execution_count": 134,
   "id": "7bac457a-3b7c-4499-a1e2-8943b6bda0b1",
   "metadata": {},
   "outputs": [
    {
     "name": "stdout",
     "output_type": "stream",
     "text": [
      "[2 3 4 5 6 7 8]\n"
     ]
    }
   ],
   "source": [
    "#Indexing\n",
    "data = np.array([1,2,3,4,5,6,7,8])\n",
    "print(data[1:])"
   ]
  },
  {
   "cell_type": "code",
   "execution_count": null,
   "id": "df3d577a-071e-4f5e-86f0-3c910540f6df",
   "metadata": {},
   "outputs": [],
   "source": []
  }
 ],
 "metadata": {
  "kernelspec": {
   "display_name": "Python 3 (ipykernel)",
   "language": "python",
   "name": "python3"
  },
  "language_info": {
   "codemirror_mode": {
    "name": "ipython",
    "version": 3
   },
   "file_extension": ".py",
   "mimetype": "text/x-python",
   "name": "python",
   "nbconvert_exporter": "python",
   "pygments_lexer": "ipython3",
   "version": "3.13.2"
  }
 },
 "nbformat": 4,
 "nbformat_minor": 5
}
