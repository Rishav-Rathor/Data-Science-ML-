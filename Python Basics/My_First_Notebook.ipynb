{
 "cells": [
  {
   "cell_type": "code",
   "execution_count": 1,
   "id": "d7555065-2314-452d-a56a-38adffa46a39",
   "metadata": {},
   "outputs": [
    {
     "name": "stdout",
     "output_type": "stream",
     "text": [
      "Hello\n"
     ]
    }
   ],
   "source": [
    "print (\"Hello\")"
   ]
  },
  {
   "cell_type": "code",
   "execution_count": 3,
   "id": "8e794a9b-6d6c-44cd-b30c-af582a2b9bd3",
   "metadata": {},
   "outputs": [
    {
     "name": "stdout",
     "output_type": "stream",
     "text": [
      "15\n",
      "2.0\n"
     ]
    }
   ],
   "source": [
    "a=10\n",
    "b=5\n",
    "print(a+b)\n",
    "print(a/b)"
   ]
  },
  {
   "cell_type": "markdown",
   "id": "e6065b56-474a-4352-96a8-e377698cc9e3",
   "metadata": {},
   "source": [
    "# Markdown text\n",
    "\n",
    "This is a markdown cell\n",
    "\n",
    "-A\n",
    "-B\n"
   ]
  },
  {
   "cell_type": "markdown",
   "id": "77d7ca8a-5649-49c5-85aa-2df63e942194",
   "metadata": {},
   "source": []
  }
 ],
 "metadata": {
  "kernelspec": {
   "display_name": "Python 3 (ipykernel)",
   "language": "python",
   "name": "python3"
  },
  "language_info": {
   "codemirror_mode": {
    "name": "ipython",
    "version": 3
   },
   "file_extension": ".py",
   "mimetype": "text/x-python",
   "name": "python",
   "nbconvert_exporter": "python",
   "pygments_lexer": "ipython3",
   "version": "3.13.1"
  }
 },
 "nbformat": 4,
 "nbformat_minor": 5
}
