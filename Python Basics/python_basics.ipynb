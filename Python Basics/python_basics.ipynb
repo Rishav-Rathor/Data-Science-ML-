{
 "cells": [
  {
   "cell_type": "code",
   "execution_count": 1,
   "id": "9baa4df4-8b10-498b-b563-9cbb14bd68d1",
   "metadata": {},
   "outputs": [
    {
     "name": "stdout",
     "output_type": "stream",
     "text": [
      "Hello World!\n",
      "5.0\n"
     ]
    }
   ],
   "source": [
    "print(\"Hello World!\")\n",
    "print(10/2)\n",
    "# This is how we write comments"
   ]
  },
  {
   "cell_type": "code",
   "execution_count": 2,
   "id": "7189c4a6-53ba-41b7-a214-4f8e051b6d98",
   "metadata": {},
   "outputs": [
    {
     "data": {
      "text/plain": [
       "'\\nAnd like this we write multi lines comments\\n'"
      ]
     },
     "execution_count": 2,
     "metadata": {},
     "output_type": "execute_result"
    }
   ],
   "source": [
    "'''\n",
    "And like this we write multi lines comments\n",
    "'''"
   ]
  },
  {
   "cell_type": "code",
   "execution_count": 3,
   "id": "7b6f1c52-d1d4-4708-bc67-021c95a04c73",
   "metadata": {},
   "outputs": [
    {
     "name": "stdout",
     "output_type": "stream",
     "text": [
      "Welcome Back\n"
     ]
    }
   ],
   "source": [
    "print (\"Welcome Back\")"
   ]
  },
  {
   "cell_type": "code",
   "execution_count": 9,
   "id": "d6b6248b-7318-44e8-b7e0-c5bd82503c92",
   "metadata": {},
   "outputs": [
    {
     "name": "stdout",
     "output_type": "stream",
     "text": [
      "10\n",
      "5.2\n"
     ]
    },
    {
     "data": {
      "text/plain": [
       "float"
      ]
     },
     "execution_count": 9,
     "metadata": {},
     "output_type": "execute_result"
    }
   ],
   "source": [
    "a=10\n",
    "A=5.2\n",
    "print(a)\n",
    "print(A)\n",
    "type(a)\n",
    "type(A)"
   ]
  },
  {
   "cell_type": "code",
   "execution_count": 13,
   "id": "6ef1ef4d-b6c3-4d26-93b3-71d94aa32932",
   "metadata": {},
   "outputs": [
    {
     "name": "stdout",
     "output_type": "stream",
     "text": [
      "25\n",
      "1.5\n",
      "1\n"
     ]
    }
   ],
   "source": [
    "a=10\n",
    "b=15\n",
    "print(a+b)\n",
    "print(b/a)\n",
    "print(b//a)#Used for till decimal places\n"
   ]
  },
  {
   "cell_type": "code",
   "execution_count": 29,
   "id": "51a01cde-c654-44b5-8f8e-45d790b618a2",
   "metadata": {},
   "outputs": [
    {
     "data": {
      "text/plain": [
       "dict"
      ]
     },
     "execution_count": 29,
     "metadata": {},
     "output_type": "execute_result"
    }
   ],
   "source": [
    "a=[1,2,3]\n",
    "type(a) # list\n",
    "b=(4,5,6)\n",
    "type(b) # Tuples\n",
    "c={'d':10}\n",
    "type(c) # Dict.\n"
   ]
  },
  {
   "cell_type": "code",
   "execution_count": null,
   "id": "d467b253-a1fa-441c-b177-8a89aa99e3b1",
   "metadata": {},
   "outputs": [],
   "source": []
  }
 ],
 "metadata": {
  "kernelspec": {
   "display_name": "Python 3 (ipykernel)",
   "language": "python",
   "name": "python3"
  },
  "language_info": {
   "codemirror_mode": {
    "name": "ipython",
    "version": 3
   },
   "file_extension": ".py",
   "mimetype": "text/x-python",
   "name": "python",
   "nbconvert_exporter": "python",
   "pygments_lexer": "ipython3",
   "version": "3.13.1"
  }
 },
 "nbformat": 4,
 "nbformat_minor": 5
}
